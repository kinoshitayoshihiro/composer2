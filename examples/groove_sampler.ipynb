{
 "cells": [
  {
   "cell_type": "markdown",
   "metadata": {},
   "source": ["# Groove Sampler N-gram\n", "This notebook shows basic usage of the groove sampler CLI."]
  },
  {
   "cell_type": "markdown",
   "metadata": {},
   "source": ["Train a model and generate MIDI:\n", "```bash\nmodcompose groove train data/loops --out model.pkl\nmodcompose groove sample model.pkl -l 4 --temperature 0.8 --seed 42 > groove.mid\n```"]
  }
 ],
 "metadata": {},
 "nbformat": 4,
 "nbformat_minor": 5
}
