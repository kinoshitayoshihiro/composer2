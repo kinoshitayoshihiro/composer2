{
 "cells": [
  {
   "cell_type": "markdown",
   "metadata": {},
   "source": [
    "# Groove Sampler\n",
    "This notebook demonstrates training and sampling a simple n-gram drum model."
   ]
  }
 ],
 "metadata": {},
 "nbformat": 4,
 "nbformat_minor": 5
}
